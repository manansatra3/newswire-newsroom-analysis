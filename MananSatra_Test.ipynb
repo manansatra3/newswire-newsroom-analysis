{
 "cells": [
  {
   "cell_type": "code",
   "execution_count": 58,
   "metadata": {
    "collapsed": true
   },
   "outputs": [],
   "source": [
    "import requests\n",
    "from bs4 import BeautifulSoup"
   ]
  },
  {
   "cell_type": "code",
   "execution_count": 59,
   "metadata": {
    "collapsed": true
   },
   "outputs": [],
   "source": [
    "locationDictionary={}\n",
    "categoryDictionary={}\n",
    "tagsDictionary={}"
   ]
  },
  {
   "cell_type": "code",
   "execution_count": 60,
   "metadata": {},
   "outputs": [
    {
     "name": "stdout",
     "output_type": "stream",
     "text": [
      "Enter a VALID date in MM-DD-YYYY format. Example: 01-31-2018\n",
      "08-25-2018\n",
      "08-25-2018\n"
     ]
    }
   ],
   "source": [
    "dateInput=raw_input(\"Enter a VALID date in MM-DD-YYYY format. Example: 01-31-2018\\n\")\n",
    "print(dateInput)\n",
    "month=int(dateInput.split(\"-\")[0])\n",
    "date=int(dateInput.split(\"-\")[1])\n",
    "year=int(dateInput.split(\"-\")[2])\n",
    "# print(date)\n",
    "# print(month)\n",
    "# print(year)"
   ]
  },
  {
   "cell_type": "code",
   "execution_count": 61,
   "metadata": {
    "collapsed": true
   },
   "outputs": [],
   "source": [
    "page = requests.get(\"https://www.newswire.com/newsroom\")    \n",
    "if page.status_code==200:   \n",
    "    soup = BeautifulSoup(page.content, 'html.parser') "
   ]
  },
  {
   "cell_type": "code",
   "execution_count": 70,
   "metadata": {},
   "outputs": [],
   "source": [
    "def monthToIntMonth(articleMonth):\n",
    "    switcher = {\n",
    "            \"Jan\":1,\n",
    "            \"Feb\":2,\n",
    "            \"Mar\":3,\n",
    "            \"Apr\":4,\n",
    "            \"May\":5,\n",
    "            \"Jun\":6,\n",
    "            \"Jul\":7,\n",
    "            \"Aug\":8,\n",
    "            \"Sep\":9,\n",
    "            \"Oct\":10,\n",
    "            \"Nov\":11,\n",
    "            \"Dec\":12\n",
    "        }\n",
    "    return switcher.get(articleMonth, \"Invalid month\")\n",
    "\n",
    "def getSoupArticle(url):\n",
    "    pageArticle = requests.get(url)    \n",
    "    if pageArticle.status_code==200:   \n",
    "        soupArticle = BeautifulSoup(pageArticle.content, 'html.parser')\n",
    "    else:\n",
    "        print \"Error while parsing the Article Page with URL: \"+url  \n",
    "    return soupArticle\n",
    "\n",
    "def getArticleData(soupArticle):\n",
    "    \n",
    "    locList=soupArticle.select(\"p strong.date-line.color-pr\")[0].get_text().strip().lower().split(\",\")[:-2]\n",
    "    location=[]\n",
    "    for loc in locList:\n",
    "        loc=loc.encode('ascii').lstrip().rstrip()\n",
    "        location.append(loc)\n",
    "    for loc in location:     \n",
    "        if loc in locationDictionary.keys():\n",
    "            locationDictionary[loc]+=1\n",
    "        else:\n",
    "            locationDictionary[loc]=1\n",
    "        \n",
    "    catSoup=soupArticle.select(\"p[class=mb-0]\")[0]\n",
    "    catListLen=len(catSoup.select(\"a\"))\n",
    "    for i in range(0,catListLen):\n",
    "        catList=str(catSoup.select(\"a\")[i].get_text().encode('ascii').lower()).split(\",\")\n",
    "        for cat in catList:\n",
    "            cat=cat.lstrip()\n",
    "            if cat in categoryDictionary.keys():\n",
    "                categoryDictionary[cat]+=1\n",
    "            else:\n",
    "                categoryDictionary[cat]=1\n",
    "\n",
    "    \n",
    "    tagSoup=soupArticle.select(\"p[class=mb-0]\")[1]\n",
    "    tagListLen=len(tagSoup.select(\"a\"))\n",
    "    for i in range(0,tagListLen):\n",
    "        tagList=str(tagSoup.select(\"a\")[i].get_text().encode('ascii').lower()).split(\",\")\n",
    "        for tag in tagList:\n",
    "            if tag in tagsDictionary.keys():\n",
    "                tagsDictionary[tag]+=1\n",
    "            else:\n",
    "                tagsDictionary[tag]=1"
   ]
  },
  {
   "cell_type": "code",
   "execution_count": 71,
   "metadata": {},
   "outputs": [
    {
     "name": "stdout",
     "output_type": "stream",
     "text": [
      "8/25/2018\n",
      "https://www.newswire.com/news/warning-the-state-of-mexico-about-psychiatric-abuse-20615383\n",
      "8/25/2018\n",
      "https://www.newswire.com/news/the-western-way-highlights-leaders-from-across-the-eastern-plains-20614836\n",
      "8/25/2018\n",
      "https://www.newswire.com/news/peace-and-culture-gala-is-launching-its-first-edition-20610583\n",
      "8/25/2018\n",
      "https://www.newswire.com/news/lottery-apps-smart-numbers-score-big-wins-20614060\n",
      "8/25/2018\n",
      "https://www.newswire.com/news/sa-co-proudly-announces-launch-and-expansion-of-new-marketing-division-20615028\n",
      "8/25/2018\n",
      "https://www.newswire.com/news/ccr-circle-computer-resources-inc-appears-on-the-inc-5000-for-the-20614790\n",
      "8/25/2018\n",
      "https://www.newswire.com/news/infinite-beauty-continues-to-ramp-up-investment-in-beauty-technology-20614692\n",
      "8/24/2018\n",
      "{'iowa': 4, 'boca raton': 4, 'mexico': 4, 'denver': 4, 'toluca': 4, 'cedar rapids': 4, 'los angeles': 4, 'san francisco': 4, 'hollywood': 4, 'fla.': 8}\n",
      "\n",
      "\n",
      "\n",
      "\n",
      "{'human rights': 4, 'and events': 4, 'trade shows': 4, 'energy': 4, 'conventions': 4, 'casinos': 4, 'games and play': 4, 'business to business': 4, 'beauty and personal care': 4, 'gambling': 4, 'business technology': 4, 'meetings': 4}\n",
      "\n",
      "\n",
      "\n",
      "\n",
      "{'human rights': 1, 'and events': 1, 'colorado': 2, 'mexico': 2, 'energy': 3, 'infinite beauty hollywood': 2, 'cchr': 2, 'gala': 2, 'politics': 2, 'ccr': 2, 'digital advertising': 2, 'boca raton': 2, 'lottery': 2, 'managed service providers': 2, 'lotto': 2, 'business technology': 1, 'pasadena': 2, 'business marketing': 2, 'policy': 2, 'powerball': 2, 'lottopia': 2, 'app': 2, 'economy': 2, 'jackpot': 2, 'royal event': 2, 'citizens commission on human rights': 2, 'marketing': 2, 'inc 5000': 2, 'mega millions': 2, 'beauty and personal care': 1, 'games and play': 1, 'digital marketing': 2, 'business to business': 1, 'psychiatry: an industry of death': 2, 'western us': 2, 'charity': 2, 'infinite beauty florida': 2, 'florida': 2, 'ecommerce marketing': 2, 'toluca': 2, 'los angeles': 2, 'rural': 2, 'infinite beauty': 2}\n"
     ]
    }
   ],
   "source": [
    "nextPageTraverse=True\n",
    "while(nextPageTraverse):\n",
    "    divs=soup.select(\"div.news-item-body\")\n",
    "    for div in divs:\n",
    "        p=div.select(\"time.ln-date\")[0]\n",
    "        articleDate=p.get_text().split(\" \")\n",
    "        articleDay=int(str(articleDate[1]).replace(',',''))\n",
    "    #     print \"Day:\", articleDay\n",
    "        articleMonth=int(monthToIntMonth(str(articleDate[0]).strip()))\n",
    "    #     print \"Month:\", articleMonth\n",
    "        articleYear=int(articleDate[2])\n",
    "    #     print \"Year:\", articleYear\n",
    "        print str(articleMonth) + \"/\" + str(articleDay) + \"/\" + str(articleYear)\n",
    "        if(articleYear>=year):\n",
    "            if(articleMonth>=month):\n",
    "                if(articleDay>=date):\n",
    "                    url=\"https://www.newswire.com/\"+div.select(\"a.content-link\")[0]['href']\n",
    "                    print url\n",
    "                    soupArticle=getSoupArticle(url)\n",
    "                    getArticleData(soupArticle)\n",
    "                else:\n",
    "                    break\n",
    "            else:\n",
    "                break\n",
    "        else:\n",
    "            break\n",
    "        \n",
    "\n",
    "    print locationDictionary\n",
    "    print \"\\n\\n\\n\"\n",
    "    print categoryDictionary\n",
    "    print \"\\n\\n\\n\"\n",
    "    print tagsDictionary"
   ]
  },
  {
   "cell_type": "code",
   "execution_count": 73,
   "metadata": {},
   "outputs": [
    {
     "name": "stdout",
     "output_type": "stream",
     "text": [
      "Hi\n"
     ]
    }
   ],
   "source": []
  },
  {
   "cell_type": "code",
   "execution_count": null,
   "metadata": {
    "collapsed": true
   },
   "outputs": [],
   "source": []
  }
 ],
 "metadata": {
  "kernelspec": {
   "display_name": "Python 2",
   "language": "python",
   "name": "python2"
  },
  "language_info": {
   "codemirror_mode": {
    "name": "ipython",
    "version": 2
   },
   "file_extension": ".py",
   "mimetype": "text/x-python",
   "name": "python",
   "nbconvert_exporter": "python",
   "pygments_lexer": "ipython2",
   "version": "2.7.13"
  }
 },
 "nbformat": 4,
 "nbformat_minor": 2
}
