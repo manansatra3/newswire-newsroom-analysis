{
 "cells": [
  {
   "cell_type": "code",
   "execution_count": 1,
   "metadata": {
    "collapsed": true
   },
   "outputs": [],
   "source": [
    "import requests\n",
    "from bs4 import BeautifulSoup"
   ]
  },
  {
   "cell_type": "code",
   "execution_count": 2,
   "metadata": {
    "collapsed": true
   },
   "outputs": [],
   "source": [
    "locationDictionary={}\n",
    "categoryDictionary={}\n",
    "tagsDictionary={}"
   ]
  },
  {
   "cell_type": "code",
   "execution_count": 3,
   "metadata": {},
   "outputs": [
    {
     "name": "stdout",
     "output_type": "stream",
     "text": [
      "Enter a VALID date in MM-DD-YYYY format. Example: 01-31-2018\n",
      "08-24-2018\n",
      "08-24-2018\n"
     ]
    }
   ],
   "source": [
    "dateInput=raw_input(\"Enter a VALID date in MM-DD-YYYY format. Example: 01-31-2018\\n\")\n",
    "print(dateInput)\n",
    "month=int(dateInput.split(\"-\")[0])\n",
    "date=int(dateInput.split(\"-\")[1])\n",
    "year=int(dateInput.split(\"-\")[2])\n",
    "# print(date)\n",
    "# print(month)\n",
    "# print(year)"
   ]
  },
  {
   "cell_type": "code",
   "execution_count": 4,
   "metadata": {
    "collapsed": true
   },
   "outputs": [],
   "source": [
    "page = requests.get(\"https://www.newswire.com/newsroom\")    \n",
    "if page.status_code==200:   \n",
    "    soup = BeautifulSoup(page.content, 'html.parser') "
   ]
  },
  {
   "cell_type": "code",
   "execution_count": 7,
   "metadata": {},
   "outputs": [],
   "source": [
    "def monthToIntMonth(articleMonth):\n",
    "    switcher = {\n",
    "            \"Jan\":1,\n",
    "            \"Feb\":2,\n",
    "            \"Mar\":3,\n",
    "            \"Apr\":4,\n",
    "            \"May\":5,\n",
    "            \"Jun\":6,\n",
    "            \"Jul\":7,\n",
    "            \"Aug\":8,\n",
    "            \"Sep\":9,\n",
    "            \"Oct\":10,\n",
    "            \"Nov\":11,\n",
    "            \"Dec\":12\n",
    "        }\n",
    "    return switcher.get(articleMonth, \"Invalid month\")\n",
    "\n",
    "def getSoupArticle(url):\n",
    "    pageArticle = requests.get(url)    \n",
    "    if pageArticle.status_code==200:   \n",
    "        soupArticle = BeautifulSoup(pageArticle.content, 'html.parser')\n",
    "    else:\n",
    "        print \"Error while parsing the Article Page with URL: \"+url  \n",
    "    return soupArticle\n",
    "\n",
    "def getArticleData(soupArticle):\n",
    "    \n",
    "    locList=soupArticle.select(\"p strong.date-line.color-pr\")[0].get_text().strip().lower().split(\",\")[:-2]\n",
    "    location=[]\n",
    "    for loc in locList:\n",
    "        loc=loc.encode('ascii').lstrip().rstrip()\n",
    "        location.append(loc)\n",
    "    print location\n",
    "    for loc in location:     \n",
    "        if loc in locationDictionary.keys():\n",
    "            locationDictionary[loc]+=1\n",
    "        else:\n",
    "            locationDictionary[loc]=1\n",
    "        \n",
    "    catSoup=soupArticle.select(\"p[class=mb-0]\")[0]\n",
    "    catList=str(catSoup.select(\"a\")[0].get_text().encode('ascii').lower()).split(\",\")\n",
    "    for cat in catList:\n",
    "        cat=cat.lstrip()\n",
    "        if cat in categoryDictionary.keys():\n",
    "            categoryDictionary[cat]+=1\n",
    "        else:\n",
    "            categoryDictionary[cat]=1\n"
   ]
  },
  {
   "cell_type": "code",
   "execution_count": 8,
   "metadata": {},
   "outputs": [
    {
     "name": "stdout",
     "output_type": "stream",
     "text": [
      "8/25/2018\n",
      "https://www.newswire.com/news/warning-the-state-of-mexico-about-psychiatric-abuse-20615383\n",
      "['toluca', 'mexico']\n",
      "8/25/2018\n",
      "https://www.newswire.com/news/the-western-way-highlights-leaders-from-across-the-eastern-plains-20614836\n",
      "['denver']\n",
      "8/25/2018\n",
      "https://www.newswire.com/news/peace-and-culture-gala-is-launching-its-first-edition-20610583\n",
      "['los angeles']\n",
      "8/25/2018\n",
      "https://www.newswire.com/news/lottery-apps-smart-numbers-score-big-wins-20614060\n",
      "['san francisco']\n",
      "8/25/2018\n",
      "https://www.newswire.com/news/sa-co-proudly-announces-launch-and-expansion-of-new-marketing-division-20615028\n",
      "['boca raton', 'fla.']\n",
      "8/25/2018\n",
      "https://www.newswire.com/news/ccr-circle-computer-resources-inc-appears-on-the-inc-5000-for-the-20614790\n",
      "['cedar rapids', 'iowa']\n",
      "8/25/2018\n",
      "https://www.newswire.com/news/infinite-beauty-continues-to-ramp-up-investment-in-beauty-technology-20614692\n",
      "['hollywood', 'fla.']\n",
      "8/24/2018\n",
      "https://www.newswire.com/news/uniaote-semi-automatic-net-weigh-auger-filling-machine-successfully-20612842\n",
      "['zhengzhou', 'china']\n",
      "8/24/2018\n",
      "https://www.newswire.com/news/dr-steven-fox-a-premier-cosmetic-dentist-in-nyc-is-treating-the-worlds-20614757\n",
      "['new york']\n",
      "8/24/2018\n",
      "https://www.newswire.com/news/ewatt-aerospace-helps-police-explore-new-ideas-on-technology-and-drug-20614579\n",
      "['diamond bar', 'calif.']\n",
      "8/24/2018\n",
      "https://www.newswire.com/news/hot-new-hip-hop-trailblazer-hitting-the-scene-20614401-20614731\n",
      "['chicago']\n",
      "8/24/2018\n",
      "https://www.newswire.com/news/paul-sternberg-of-houston-compares-residential-and-commercial-real-20614541\n",
      "['houston']\n",
      "8/24/2018\n",
      "https://www.newswire.com/news/pasadena-villa-outpatient-center-raleigh-celebrates-one-year-20614545\n",
      "['cary', 'n.c.']\n",
      "8/24/2018\n",
      "https://www.newswire.com/news/ameritech-financial-doctors-help-with-physical-help-but-whos-helping-20613573\n",
      "['rohnert park', 'calif.']\n",
      "8/24/2018\n",
      "https://www.newswire.com/news/no-rest-for-the-wicked-or-for-those-with-student-loans-may-not-be-true-20613585\n",
      "['emeryville', 'calif.']\n",
      "8/24/2018\n",
      "https://www.newswire.com/news/jonathan-brennan-former-head-of-bank-of-america-wealth-management-20611680\n",
      "['new york']\n",
      "8/24/2018\n",
      "https://www.newswire.com/news/pqs-launches-equipp-analytics-at-nacds-total-store-expo-20614400\n",
      "['durham', 'n.c.']\n",
      "8/24/2018\n",
      "https://www.newswire.com/news/mcbee-and-elevatinghome-to-present-a-webinar-on-the-clinical-financial-20614417\n",
      "['wayne', 'pa.']\n",
      "8/24/2018\n",
      "https://www.newswire.com/news/precision-oncology-the-future-of-cancer-care-20612068\n",
      "['vancouver', 'british columbia']\n",
      "8/24/2018\n",
      "https://www.newswire.com/news/distinguished-marketing-group-is-making-a-positive-impact-20593518\n",
      "['rancho cucamonga', 'ca']\n",
      "8/24/2018\n",
      "https://www.newswire.com/news/hot-new-hip-hop-trailblazer-hitting-the-scene-20614401\n",
      "['chicago']\n",
      "8/24/2018\n",
      "https://www.newswire.com/news/la-party-for-a-cure-to-welcome-multi-platinum-recording-artist-20614399\n",
      "['new york']\n",
      "8/24/2018\n",
      "https://www.newswire.com/news/chile-based-agency-ids-wins-hubspots-inbound-growth-story-award-for-20613705\n",
      "['santiago', 'chile']\n",
      "8/24/2018\n",
      "https://www.newswire.com/news/free-tool-helps-physicians-and-individuals-check-alzheimers-risk-apoe-20609759\n",
      "['chennai', 'india']\n",
      "8/24/2018\n",
      "https://www.newswire.com/news/dc-promotions-expanding-operations-into-three-new-markets-20576656\n",
      "['vienna', 'va']\n",
      "8/24/2018\n",
      "https://www.newswire.com/news/nycm-achieves-top-sales-scores-in-nation-plans-to-grow-team-20576672\n",
      "['long island city', 'ny']\n",
      "8/24/2018\n",
      "https://www.newswire.com/news/reed-cavendish-wealth-management-us-and-china-to-discuss-trade-tariffs-20612810\n",
      "['taipei city', 'taiwan']\n",
      "8/24/2018\n",
      "https://www.newswire.com/news/reign-management-attends-national-leadership-conference-20593535\n",
      "['wayne', 'nj']\n",
      "8/24/2018\n",
      "https://www.newswire.com/news/nola-events-and-promotions-embarks-on-new-campaigns-20593520\n",
      "['metairie', 'la']\n",
      "8/24/2018\n",
      "https://www.newswire.com/news/clutch-expands-company-reach-with-satellite-office-in-ohio-20593493\n",
      "['wayne', 'nj']\n",
      "8/24/2018\n",
      "https://www.newswire.com/news/mountain-view-concepts-is-effecting-change-in-the-community-20593519\n",
      "['greenville', 'sc']\n",
      "8/24/2018\n",
      "https://www.newswire.com/news/business-travel-helps-atlas-management-group-grow-20593471\n",
      "['buffalo', 'ny']\n",
      "{'diamond bar': 1, 'houston': 1, 'rohnert park': 1, 'boca raton': 1, 'mexico': 1, 'ca': 1, 'wayne': 3, 'india': 1, 'va': 1, 'cedar rapids': 1, 'cary': 1, 'san francisco': 1, 'taiwan': 1, 'fla.': 2, 'long island city': 1, 'zhengzhou': 1, 'nj': 2, 'chicago': 2, 'n.c.': 2, 'greenville': 1, 'denver': 1, 'ny': 2, 'new york': 3, 'vancouver': 1, 'british columbia': 1, 'hollywood': 1, 'rancho cucamonga': 1, 'santiago': 1, 'calif.': 3, 'iowa': 1, 'taipei city': 1, 'metairie': 1, 'china': 1, 'chile': 1, 'chennai': 1, 'emeryville': 1, 'la': 1, 'toluca': 1, 'durham': 1, 'los angeles': 1, 'sc': 1, 'vienna': 1, 'buffalo': 1, 'pa.': 1}\n",
      "\n",
      "\n",
      "\n",
      "\n",
      "{'human rights': 1, 'and events': 1, 'trade shows': 1, 'energy': 1, 'conventions': 1, 'financial news': 2, 'international law': 1, 'business technology': 1, 'aeronautics and aerospace': 1, 'music': 3, 'beauty and personal care': 1, 'gambling': 1, 'meetings': 1, 'business': 9, 'marketing': 1, 'real estate': 1, 'business to business': 1, 'law': 1, 'e-commerce': 1, 'pharmaceuticals and biotech': 1, 'healthcare': 3, 'medicine and healthcare': 1}\n"
     ]
    }
   ],
   "source": [
    "divs=soup.select(\"div.news-item-body\")\n",
    "\n",
    "for div in divs:\n",
    "    p=div.select(\"time.ln-date\")[0]\n",
    "    articleDate=p.get_text().split(\" \")\n",
    "    articleDay=int(str(articleDate[1]).replace(',',''))\n",
    "#     print \"Day:\", articleDay\n",
    "    articleMonth=int(monthToIntMonth(str(articleDate[0]).strip()))\n",
    "#     print \"Month:\", articleMonth\n",
    "    articleYear=int(articleDate[2])\n",
    "#     print \"Year:\", articleYear\n",
    "    print str(articleMonth) + \"/\" + str(articleDay) + \"/\" + str(articleYear)\n",
    "    if(articleYear>=year):\n",
    "        if(articleMonth>=month):\n",
    "            if(articleDay>=date):\n",
    "                url=\"https://www.newswire.com/\"+div.select(\"a.content-link\")[0]['href']\n",
    "                print url\n",
    "                soupArticle=getSoupArticle(url)\n",
    "                getArticleData(soupArticle)\n",
    "            else:\n",
    "                break\n",
    "        else:\n",
    "            break\n",
    "    else:\n",
    "        break\n",
    "    \n",
    "print locationDictionary\n",
    "print \"\\n\\n\\n\"\n",
    "print categoryDictionary"
   ]
  },
  {
   "cell_type": "code",
   "execution_count": null,
   "metadata": {
    "collapsed": true
   },
   "outputs": [],
   "source": []
  },
  {
   "cell_type": "code",
   "execution_count": null,
   "metadata": {
    "collapsed": true
   },
   "outputs": [],
   "source": []
  }
 ],
 "metadata": {
  "kernelspec": {
   "display_name": "Python 2",
   "language": "python",
   "name": "python2"
  },
  "language_info": {
   "codemirror_mode": {
    "name": "ipython",
    "version": 2
   },
   "file_extension": ".py",
   "mimetype": "text/x-python",
   "name": "python",
   "nbconvert_exporter": "python",
   "pygments_lexer": "ipython2",
   "version": "2.7.13"
  }
 },
 "nbformat": 4,
 "nbformat_minor": 2
}
