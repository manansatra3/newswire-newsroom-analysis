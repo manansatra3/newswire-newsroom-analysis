{
 "cells": [
  {
   "cell_type": "code",
   "execution_count": 85,
   "metadata": {},
   "outputs": [],
   "source": [
    "import requests\n",
    "from bs4 import BeautifulSoup"
   ]
  },
  {
   "cell_type": "code",
   "execution_count": 86,
   "metadata": {},
   "outputs": [
    {
     "name": "stdout",
     "output_type": "stream",
     "text": [
      "Enter a VALID date in MM-DD-YYYY format. Example: 01-31-2018\t08-25-2018\n",
      "08-25-2018\n",
      "25\n",
      "8\n",
      "2018\n"
     ]
    }
   ],
   "source": [
    "dateInput=raw_input(\"Enter a VALID date in MM-DD-YYYY format. Example: 01-31-2018\\t\")\n",
    "print(dateInput)\n",
    "month=int(dateInput.split(\"-\")[0])\n",
    "date=int(dateInput.split(\"-\")[1])\n",
    "year=int(dateInput.split(\"-\")[2])\n",
    "print(date)\n",
    "print(month)\n",
    "print(year)"
   ]
  },
  {
   "cell_type": "code",
   "execution_count": 87,
   "metadata": {},
   "outputs": [],
   "source": [
    "page = requests.get(\"https://www.newswire.com/newsroom\")    \n",
    "T\n",
    "if page.status_code==200:   \n",
    "    soup = BeautifulSoup(page.content, 'html.parser') "
   ]
  },
  {
   "cell_type": "code",
   "execution_count": 147,
   "metadata": {},
   "outputs": [],
   "source": [
    "def monthToIntMonth(articleMonth):\n",
    "    switcher = {\n",
    "            \"Jan\":1,\n",
    "            \"Feb\":2,\n",
    "            \"Mar\":3,\n",
    "            \"Apr\":4,\n",
    "            \"May\":5,\n",
    "            \"Jun\":6,\n",
    "            \"Jul\":7,\n",
    "            \"Aug\":8,\n",
    "            \"Sep\":9,\n",
    "            \"Oct\":10,\n",
    "            \"Nov\":11,\n",
    "            \"Dec\":12\n",
    "        }\n",
    "    return switcher.get(articleMonth, \"Invalid month\")\n",
    "\n",
    "def getSoupArticle(url):\n",
    "    pageArticle = requests.get(url)    \n",
    "    if pageArticle.status_code==200:   \n",
    "        soupArticle = BeautifulSoup(pageArticle.content, 'html.parser')\n",
    "    else:\n",
    "        print \"Error while parsing the Article Page with URL: \"+url  \n",
    "    return soupArticle\n",
    "\n",
    "def getArticleData(soupArticle):\n",
    "    category=\"\"\n",
    "    tags=\"\"\n",
    "    location=soupArticle.select(\"p strong.date-line.color-pr\")[0].get_text().strip().split(\",\")[:-2]\n",
    "    print location"
   ]
  },
  {
   "cell_type": "code",
   "execution_count": 148,
   "metadata": {},
   "outputs": [
    {
     "name": "stdout",
     "output_type": "stream",
     "text": [
      "Day: 25\n",
      "Month: 8\n",
      "Year: 2018\n",
      "https://www.newswire.com/news/warning-the-state-of-mexico-about-psychiatric-abuse-20615383\n",
      "[u'TOLUCA', u' Mexico']\n",
      "Day: 25\n",
      "Month: 8\n",
      "Year: 2018\n",
      "https://www.newswire.com/news/the-western-way-highlights-leaders-from-across-the-eastern-plains-20614836\n",
      "[u'DENVER']\n",
      "Day: 25\n",
      "Month: 8\n",
      "Year: 2018\n",
      "https://www.newswire.com/news/peace-and-culture-gala-is-launching-its-first-edition-20610583\n",
      "[u'LOS ANGELES']\n",
      "Day: 25\n",
      "Month: 8\n",
      "Year: 2018\n",
      "https://www.newswire.com/news/lottery-apps-smart-numbers-score-big-wins-20614060\n",
      "[u'SAN FRANCISCO']\n",
      "Day: 25\n",
      "Month: 8\n",
      "Year: 2018\n",
      "https://www.newswire.com/news/sa-co-proudly-announces-launch-and-expansion-of-new-marketing-division-20615028\n",
      "[u'BOCA RATON', u' Fla.']\n",
      "Day: 25\n",
      "Month: 8\n",
      "Year: 2018\n",
      "https://www.newswire.com/news/ccr-circle-computer-resources-inc-appears-on-the-inc-5000-for-the-20614790\n",
      "[u'CEDAR RAPIDS', u' Iowa']\n",
      "Day: 25\n",
      "Month: 8\n",
      "Year: 2018\n",
      "https://www.newswire.com/news/infinite-beauty-continues-to-ramp-up-investment-in-beauty-technology-20614692\n",
      "[u'HOLLYWOOD', u' Fla.']\n",
      "Day: 24\n",
      "Month: 8\n",
      "Year: 2018\n"
     ]
    }
   ],
   "source": [
    "divs=soup.select(\"div.news-item-body\")\n",
    "# print divs\n",
    "for div in divs:\n",
    "    p=div.select(\"time.ln-date\")[0]\n",
    "    articleDate=p.get_text().split(\" \")\n",
    "    articleDay=int(str(articleDate[1]).replace(',',''))\n",
    "    print \"Day:\", articleDay\n",
    "    articleMonth=int(monthToIntMonth(str(articleDate[0]).strip()))\n",
    "    print \"Month:\", articleMonth\n",
    "    articleYear=int(articleDate[2])\n",
    "    print \"Year:\", articleYear\n",
    "    if(articleYear>=year):\n",
    "        if(articleMonth>=month):\n",
    "            if(articleDay>=date):\n",
    "                url=\"https://www.newswire.com/\"+div.select(\"a.content-link\")[0]['href']\n",
    "                print url\n",
    "                soupArticle=getSoupArticle(url)\n",
    "                getArticleData(soupArticle)\n",
    "                continue\n",
    "            else:\n",
    "                break\n",
    "        else:\n",
    "            break\n",
    "    else:\n",
    "        break\n",
    "    "
   ]
  },
  {
   "cell_type": "code",
   "execution_count": null,
   "metadata": {
    "collapsed": true
   },
   "outputs": [],
   "source": []
  }
 ],
 "metadata": {
  "kernelspec": {
   "display_name": "Python 2",
   "language": "python",
   "name": "python2"
  },
  "language_info": {
   "codemirror_mode": {
    "name": "ipython",
    "version": 2
   },
   "file_extension": ".py",
   "mimetype": "text/x-python",
   "name": "python",
   "nbconvert_exporter": "python",
   "pygments_lexer": "ipython2",
   "version": "2.7.13"
  }
 },
 "nbformat": 4,
 "nbformat_minor": 2
}
