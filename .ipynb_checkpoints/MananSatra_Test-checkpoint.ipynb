{
 "cells": [
  {
   "cell_type": "code",
   "execution_count": 85,
   "metadata": {},
   "outputs": [],
   "source": [
    "import requests\n",
    "from bs4 import BeautifulSoup"
   ]
  },
  {
   "cell_type": "code",
   "execution_count": 86,
   "metadata": {},
   "outputs": [
    {
     "name": "stdout",
     "output_type": "stream",
     "text": [
      "Enter a VALID date in MM-DD-YYYY format. Example: 01-31-2018\t08-25-2018\n",
      "08-25-2018\n",
      "25\n",
      "8\n",
      "2018\n"
     ]
    }
   ],
   "source": [
    "dateInput=raw_input(\"Enter a VALID date in MM-DD-YYYY format. Example: 01-31-2018\\t\")\n",
    "print(dateInput)\n",
    "month=int(dateInput.split(\"-\")[0])\n",
    "date=int(dateInput.split(\"-\")[1])\n",
    "year=int(dateInput.split(\"-\")[2])\n",
    "print(date)\n",
    "print(month)\n",
    "print(year)"
   ]
  },
  {
   "cell_type": "code",
   "execution_count": 87,
   "metadata": {},
   "outputs": [],
   "source": [
    "page = requests.get(\"https://www.newswire.com/newsroom\")    \n",
    "\n",
    "if page.status_code==200:   \n",
    "    soup = BeautifulSoup(page.content, 'html.parser') "
   ]
  },
  {
   "cell_type": "code",
   "execution_count": 105,
   "metadata": {},
   "outputs": [],
   "source": [
    "def monthToIntMonth(articleMonth):\n",
    "    switcher = {\n",
    "            \"Jan\":1,\n",
    "            \"Feb\":2,\n",
    "            \"Mar\":3,\n",
    "            \"Apr\":4,\n",
    "            \"May\":5,\n",
    "            \"Jun\":6,\n",
    "            \"Jul\":7,\n",
    "            \"Aug\":8,\n",
    "            \"Sep\":9,\n",
    "            \"Oct\":10,\n",
    "            \"Nov\":11,\n",
    "            \"Dec\":12\n",
    "        }\n",
    "    return switcher.get(articleMonth, \"Invalid month\")"
   ]
  },
  {
   "cell_type": "code",
   "execution_count": 106,
   "metadata": {},
   "outputs": [
    {
     "name": "stdout",
     "output_type": "stream",
     "text": [
      "Day: 25\n",
      "8\n"
     ]
    },
    {
     "ename": "TypeError",
     "evalue": "int() argument must be a string or a number, not 'NoneType'",
     "output_type": "error",
     "traceback": [
      "\u001b[1;31m---------------------------------------------------------------------------\u001b[0m",
      "\u001b[1;31mTypeError\u001b[0m                                 Traceback (most recent call last)",
      "\u001b[1;32m<ipython-input-106-edfc4372fb97>\u001b[0m in \u001b[0;36m<module>\u001b[1;34m()\u001b[0m\n\u001b[0;32m      3\u001b[0m     \u001b[0marticleDay\u001b[0m\u001b[1;33m=\u001b[0m\u001b[0mint\u001b[0m\u001b[1;33m(\u001b[0m\u001b[0mstr\u001b[0m\u001b[1;33m(\u001b[0m\u001b[0marticleDate\u001b[0m\u001b[1;33m[\u001b[0m\u001b[1;36m1\u001b[0m\u001b[1;33m]\u001b[0m\u001b[1;33m)\u001b[0m\u001b[1;33m.\u001b[0m\u001b[0mreplace\u001b[0m\u001b[1;33m(\u001b[0m\u001b[1;34m','\u001b[0m\u001b[1;33m,\u001b[0m\u001b[1;34m''\u001b[0m\u001b[1;33m)\u001b[0m\u001b[1;33m)\u001b[0m\u001b[1;33m\u001b[0m\u001b[0m\n\u001b[0;32m      4\u001b[0m     \u001b[1;32mprint\u001b[0m \u001b[1;34m\"Day:\"\u001b[0m\u001b[1;33m,\u001b[0m \u001b[0marticleDay\u001b[0m\u001b[1;33m\u001b[0m\u001b[0m\n\u001b[1;32m----> 5\u001b[1;33m     \u001b[0marticleMonth\u001b[0m\u001b[1;33m=\u001b[0m\u001b[0mint\u001b[0m\u001b[1;33m(\u001b[0m\u001b[0mmonthToIntMonth\u001b[0m\u001b[1;33m(\u001b[0m\u001b[0mstr\u001b[0m\u001b[1;33m(\u001b[0m\u001b[0marticleDate\u001b[0m\u001b[1;33m[\u001b[0m\u001b[1;36m0\u001b[0m\u001b[1;33m]\u001b[0m\u001b[1;33m)\u001b[0m\u001b[1;33m.\u001b[0m\u001b[0mstrip\u001b[0m\u001b[1;33m(\u001b[0m\u001b[1;33m)\u001b[0m\u001b[1;33m)\u001b[0m\u001b[1;33m)\u001b[0m\u001b[1;33m\u001b[0m\u001b[0m\n\u001b[0m\u001b[0;32m      6\u001b[0m     \u001b[1;32mprint\u001b[0m \u001b[1;34m\"Month:\"\u001b[0m\u001b[1;33m,\u001b[0m \u001b[0marticleMonth\u001b[0m\u001b[1;33m\u001b[0m\u001b[0m\n\u001b[0;32m      7\u001b[0m     \u001b[0marticleYear\u001b[0m\u001b[1;33m=\u001b[0m\u001b[0mint\u001b[0m\u001b[1;33m(\u001b[0m\u001b[0marticleDate\u001b[0m\u001b[1;33m[\u001b[0m\u001b[1;36m2\u001b[0m\u001b[1;33m]\u001b[0m\u001b[1;33m)\u001b[0m\u001b[1;33m\u001b[0m\u001b[0m\n",
      "\u001b[1;31mTypeError\u001b[0m: int() argument must be a string or a number, not 'NoneType'"
     ]
    }
   ],
   "source": [
    "for p in soup.find_all(class_ ='ln-date'):\n",
    "    articleDate=p.get_text().split(\" \")\n",
    "    articleDay=int(str(articleDate[1]).replace(',',''))\n",
    "    print \"Day:\", articleDay\n",
    "    articleMonth=int(monthToIntMonth(str(articleDate[0]).strip()))\n",
    "    print \"Month:\", articleMonth\n",
    "    articleYear=int(articleDate[2])\n",
    "    print \"Year:\", articleYear\n",
    "    if(articleYear>=year):\n",
    "        if(articleMonth>=month):\n",
    "            if(articleDay>=date):\n",
    "                print p\n",
    "                continue\n",
    "            else:\n",
    "                break\n",
    "        else:\n",
    "            break\n",
    "    else:\n",
    "        break\n",
    "    "
   ]
  },
  {
   "cell_type": "code",
   "execution_count": null,
   "metadata": {
    "collapsed": true
   },
   "outputs": [],
   "source": []
  }
 ],
 "metadata": {
  "kernelspec": {
   "display_name": "Python 2",
   "language": "python",
   "name": "python2"
  },
  "language_info": {
   "codemirror_mode": {
    "name": "ipython",
    "version": 2
   },
   "file_extension": ".py",
   "mimetype": "text/x-python",
   "name": "python",
   "nbconvert_exporter": "python",
   "pygments_lexer": "ipython2",
   "version": "2.7.13"
  }
 },
 "nbformat": 4,
 "nbformat_minor": 2
}
